{
 "cells": [
  {
   "cell_type": "markdown",
   "metadata": {},
   "source": [
    "# Hospital Readmissions Data Analysis and Recommendations for Reduction\n",
    "\n",
    "### Background\n",
    "In October 2012, the US government's Center for Medicare and Medicaid Services (CMS) began reducing Medicare payments for Inpatient Prospective Payment System hospitals with excess readmissions. Excess readmissions are measured by a ratio, by dividing a hospital’s number of “predicted” 30-day readmissions for heart attack, heart failure, and pneumonia by the number that would be “expected,” based on an average hospital with similar patients. A ratio greater than 1 indicates excess readmissions.\n",
    "\n",
    "### Exercise Directions\n",
    "\n",
    "In this exercise, you will:\n",
    "+ critique a preliminary analysis of readmissions data and recommendations (provided below) for reducing the readmissions rate\n",
    "+ construct a statistically sound analysis and make recommendations of your own \n",
    "\n",
    "More instructions provided below. Include your work **in this notebook and submit to your Github account**. \n",
    "\n",
    "### Resources\n",
    "+ Data source: https://data.medicare.gov/Hospital-Compare/Hospital-Readmission-Reduction/9n3s-kdb3\n",
    "+ More information: http://www.cms.gov/Medicare/medicare-fee-for-service-payment/acuteinpatientPPS/readmissions-reduction-program.html\n",
    "+ Markdown syntax: http://nestacms.com/docs/creating-content/markdown-cheat-sheet\n",
    "****"
   ]
  },
  {
   "cell_type": "code",
   "execution_count": 1,
   "metadata": {
    "collapsed": false
   },
   "outputs": [],
   "source": [
    "%matplotlib inline\n",
    "\n",
    "import pandas as pd\n",
    "import numpy as np\n",
    "import matplotlib.pyplot as plt\n",
    "import bokeh.plotting as bkp\n",
    "from mpl_toolkits.axes_grid1 import make_axes_locatable\n",
    "\n"
   ]
  },
  {
   "cell_type": "code",
   "execution_count": 2,
   "metadata": {
    "collapsed": false
   },
   "outputs": [],
   "source": [
    "# read in readmissions data provided\n",
    "hospital_read_df = pd.read_csv('data/cms_hospital_readmissions.csv')"
   ]
  },
  {
   "cell_type": "code",
   "execution_count": 3,
   "metadata": {
    "collapsed": false
   },
   "outputs": [
    {
     "data": {
      "text/html": [
       "<div>\n",
       "<table border=\"1\" class=\"dataframe\">\n",
       "  <thead>\n",
       "    <tr style=\"text-align: right;\">\n",
       "      <th></th>\n",
       "      <th>Hospital Name</th>\n",
       "      <th>Provider Number</th>\n",
       "      <th>State</th>\n",
       "      <th>Measure Name</th>\n",
       "      <th>Number of Discharges</th>\n",
       "      <th>Footnote</th>\n",
       "      <th>Excess Readmission Ratio</th>\n",
       "      <th>Predicted Readmission Rate</th>\n",
       "      <th>Expected Readmission Rate</th>\n",
       "      <th>Number of Readmissions</th>\n",
       "      <th>Start Date</th>\n",
       "      <th>End Date</th>\n",
       "    </tr>\n",
       "  </thead>\n",
       "  <tbody>\n",
       "    <tr>\n",
       "      <th>0</th>\n",
       "      <td>FROEDTERT MEMORIAL LUTHERAN HOSPITAL</td>\n",
       "      <td>520177</td>\n",
       "      <td>WI</td>\n",
       "      <td>READM-30-HIP-KNEE-HRRP</td>\n",
       "      <td>242</td>\n",
       "      <td>NaN</td>\n",
       "      <td>1.9095</td>\n",
       "      <td>10.8</td>\n",
       "      <td>5.6</td>\n",
       "      <td>38.0</td>\n",
       "      <td>07/01/2010</td>\n",
       "      <td>06/30/2013</td>\n",
       "    </tr>\n",
       "    <tr>\n",
       "      <th>1</th>\n",
       "      <td>PROVIDENCE HOSPITAL</td>\n",
       "      <td>90006</td>\n",
       "      <td>DC</td>\n",
       "      <td>READM-30-HIP-KNEE-HRRP</td>\n",
       "      <td>247</td>\n",
       "      <td>NaN</td>\n",
       "      <td>1.7521</td>\n",
       "      <td>9.2</td>\n",
       "      <td>5.3</td>\n",
       "      <td>33.0</td>\n",
       "      <td>07/01/2010</td>\n",
       "      <td>06/30/2013</td>\n",
       "    </tr>\n",
       "    <tr>\n",
       "      <th>2</th>\n",
       "      <td>BEAUFORT COUNTY MEMORIAL HOSPITAL</td>\n",
       "      <td>420067</td>\n",
       "      <td>SC</td>\n",
       "      <td>READM-30-HIP-KNEE-HRRP</td>\n",
       "      <td>586</td>\n",
       "      <td>NaN</td>\n",
       "      <td>1.5836</td>\n",
       "      <td>7.6</td>\n",
       "      <td>4.8</td>\n",
       "      <td>53.0</td>\n",
       "      <td>07/01/2010</td>\n",
       "      <td>06/30/2013</td>\n",
       "    </tr>\n",
       "    <tr>\n",
       "      <th>3</th>\n",
       "      <td>ADVOCATE CHRIST HOSPITAL &amp; MEDICAL CENTER</td>\n",
       "      <td>140208</td>\n",
       "      <td>IL</td>\n",
       "      <td>READM-30-HIP-KNEE-HRRP</td>\n",
       "      <td>965</td>\n",
       "      <td>NaN</td>\n",
       "      <td>1.5760</td>\n",
       "      <td>9.0</td>\n",
       "      <td>5.7</td>\n",
       "      <td>95.0</td>\n",
       "      <td>07/01/2010</td>\n",
       "      <td>06/30/2013</td>\n",
       "    </tr>\n",
       "    <tr>\n",
       "      <th>4</th>\n",
       "      <td>BRAZOSPORT REGIONAL HEALTH SYSTEM</td>\n",
       "      <td>450072</td>\n",
       "      <td>TX</td>\n",
       "      <td>READM-30-HIP-KNEE-HRRP</td>\n",
       "      <td>149</td>\n",
       "      <td>NaN</td>\n",
       "      <td>1.5308</td>\n",
       "      <td>8.2</td>\n",
       "      <td>5.4</td>\n",
       "      <td>20.0</td>\n",
       "      <td>07/01/2010</td>\n",
       "      <td>06/30/2013</td>\n",
       "    </tr>\n",
       "  </tbody>\n",
       "</table>\n",
       "</div>"
      ],
      "text/plain": [
       "                               Hospital Name  Provider Number State  \\\n",
       "0       FROEDTERT MEMORIAL LUTHERAN HOSPITAL           520177    WI   \n",
       "1                        PROVIDENCE HOSPITAL            90006    DC   \n",
       "2          BEAUFORT COUNTY MEMORIAL HOSPITAL           420067    SC   \n",
       "3  ADVOCATE CHRIST HOSPITAL & MEDICAL CENTER           140208    IL   \n",
       "4          BRAZOSPORT REGIONAL HEALTH SYSTEM           450072    TX   \n",
       "\n",
       "             Measure Name Number of Discharges  Footnote  \\\n",
       "0  READM-30-HIP-KNEE-HRRP                  242       NaN   \n",
       "1  READM-30-HIP-KNEE-HRRP                  247       NaN   \n",
       "2  READM-30-HIP-KNEE-HRRP                  586       NaN   \n",
       "3  READM-30-HIP-KNEE-HRRP                  965       NaN   \n",
       "4  READM-30-HIP-KNEE-HRRP                  149       NaN   \n",
       "\n",
       "   Excess Readmission Ratio  Predicted Readmission Rate  \\\n",
       "0                    1.9095                        10.8   \n",
       "1                    1.7521                         9.2   \n",
       "2                    1.5836                         7.6   \n",
       "3                    1.5760                         9.0   \n",
       "4                    1.5308                         8.2   \n",
       "\n",
       "   Expected Readmission Rate  Number of Readmissions  Start Date    End Date  \n",
       "0                        5.6                    38.0  07/01/2010  06/30/2013  \n",
       "1                        5.3                    33.0  07/01/2010  06/30/2013  \n",
       "2                        4.8                    53.0  07/01/2010  06/30/2013  \n",
       "3                        5.7                    95.0  07/01/2010  06/30/2013  \n",
       "4                        5.4                    20.0  07/01/2010  06/30/2013  "
      ]
     },
     "execution_count": 3,
     "metadata": {},
     "output_type": "execute_result"
    }
   ],
   "source": [
    "hospital_read_df.head()"
   ]
  },
  {
   "cell_type": "code",
   "execution_count": 8,
   "metadata": {
    "collapsed": false
   },
   "outputs": [
    {
     "data": {
      "text/html": [
       "<div>\n",
       "<table border=\"1\" class=\"dataframe\">\n",
       "  <thead>\n",
       "    <tr style=\"text-align: right;\">\n",
       "      <th></th>\n",
       "      <th>Provider Number</th>\n",
       "      <th>Footnote</th>\n",
       "      <th>Excess Readmission Ratio</th>\n",
       "      <th>Predicted Readmission Rate</th>\n",
       "      <th>Expected Readmission Rate</th>\n",
       "      <th>Number of Readmissions</th>\n",
       "    </tr>\n",
       "  </thead>\n",
       "  <tbody>\n",
       "    <tr>\n",
       "      <th>count</th>\n",
       "      <td>16860.000000</td>\n",
       "      <td>3129.000000</td>\n",
       "      <td>13731.000000</td>\n",
       "      <td>13731.000000</td>\n",
       "      <td>13731.000000</td>\n",
       "      <td>11497.000000</td>\n",
       "    </tr>\n",
       "    <tr>\n",
       "      <th>mean</th>\n",
       "      <td>263516.943654</td>\n",
       "      <td>2.905401</td>\n",
       "      <td>1.002582</td>\n",
       "      <td>16.916532</td>\n",
       "      <td>16.866135</td>\n",
       "      <td>63.633731</td>\n",
       "    </tr>\n",
       "    <tr>\n",
       "      <th>std</th>\n",
       "      <td>160146.191702</td>\n",
       "      <td>2.074384</td>\n",
       "      <td>0.091088</td>\n",
       "      <td>6.197542</td>\n",
       "      <td>5.989652</td>\n",
       "      <td>59.540296</td>\n",
       "    </tr>\n",
       "    <tr>\n",
       "      <th>min</th>\n",
       "      <td>10001.000000</td>\n",
       "      <td>1.000000</td>\n",
       "      <td>0.549500</td>\n",
       "      <td>2.700000</td>\n",
       "      <td>2.900000</td>\n",
       "      <td>11.000000</td>\n",
       "    </tr>\n",
       "    <tr>\n",
       "      <th>25%</th>\n",
       "      <td>110181.500000</td>\n",
       "      <td>1.000000</td>\n",
       "      <td>0.949500</td>\n",
       "      <td>15.200000</td>\n",
       "      <td>15.800000</td>\n",
       "      <td>24.000000</td>\n",
       "    </tr>\n",
       "    <tr>\n",
       "      <th>50%</th>\n",
       "      <td>250157.000000</td>\n",
       "      <td>1.000000</td>\n",
       "      <td>0.997100</td>\n",
       "      <td>18.500000</td>\n",
       "      <td>18.500000</td>\n",
       "      <td>45.000000</td>\n",
       "    </tr>\n",
       "    <tr>\n",
       "      <th>75%</th>\n",
       "      <td>390138.250000</td>\n",
       "      <td>5.000000</td>\n",
       "      <td>1.052350</td>\n",
       "      <td>21.100000</td>\n",
       "      <td>21.100000</td>\n",
       "      <td>82.000000</td>\n",
       "    </tr>\n",
       "    <tr>\n",
       "      <th>max</th>\n",
       "      <td>670091.000000</td>\n",
       "      <td>7.000000</td>\n",
       "      <td>1.909500</td>\n",
       "      <td>32.800000</td>\n",
       "      <td>29.400000</td>\n",
       "      <td>879.000000</td>\n",
       "    </tr>\n",
       "  </tbody>\n",
       "</table>\n",
       "</div>"
      ],
      "text/plain": [
       "       Provider Number     Footnote  Excess Readmission Ratio  \\\n",
       "count     16860.000000  3129.000000              13731.000000   \n",
       "mean     263516.943654     2.905401                  1.002582   \n",
       "std      160146.191702     2.074384                  0.091088   \n",
       "min       10001.000000     1.000000                  0.549500   \n",
       "25%      110181.500000     1.000000                  0.949500   \n",
       "50%      250157.000000     1.000000                  0.997100   \n",
       "75%      390138.250000     5.000000                  1.052350   \n",
       "max      670091.000000     7.000000                  1.909500   \n",
       "\n",
       "       Predicted Readmission Rate  Expected Readmission Rate  \\\n",
       "count                13731.000000               13731.000000   \n",
       "mean                    16.916532                  16.866135   \n",
       "std                      6.197542                   5.989652   \n",
       "min                      2.700000                   2.900000   \n",
       "25%                     15.200000                  15.800000   \n",
       "50%                     18.500000                  18.500000   \n",
       "75%                     21.100000                  21.100000   \n",
       "max                     32.800000                  29.400000   \n",
       "\n",
       "       Number of Readmissions  \n",
       "count            11497.000000  \n",
       "mean                63.633731  \n",
       "std                 59.540296  \n",
       "min                 11.000000  \n",
       "25%                 24.000000  \n",
       "50%                 45.000000  \n",
       "75%                 82.000000  \n",
       "max                879.000000  "
      ]
     },
     "execution_count": 8,
     "metadata": {},
     "output_type": "execute_result"
    }
   ],
   "source": [
    "hospital_read_df.describe()"
   ]
  },
  {
   "cell_type": "code",
   "execution_count": 18,
   "metadata": {
    "collapsed": false
   },
   "outputs": [
    {
     "name": "stdout",
     "output_type": "stream",
     "text": [
      "<class 'pandas.core.frame.DataFrame'>\n",
      "RangeIndex: 16860 entries, 0 to 16859\n",
      "Data columns (total 12 columns):\n",
      "Hospital Name                 16860 non-null object\n",
      "Provider Number               16860 non-null int64\n",
      "State                         16860 non-null object\n",
      "Measure Name                  16860 non-null object\n",
      "Number of Discharges          16860 non-null object\n",
      "Footnote                      3129 non-null float64\n",
      "Excess Readmission Ratio      13731 non-null float64\n",
      "Predicted Readmission Rate    13731 non-null float64\n",
      "Expected Readmission Rate     13731 non-null float64\n",
      "Number of Readmissions        11497 non-null float64\n",
      "Start Date                    16860 non-null object\n",
      "End Date                      16860 non-null object\n",
      "dtypes: float64(5), int64(1), object(6)\n",
      "memory usage: 1.5+ MB\n"
     ]
    }
   ],
   "source": [
    "hospital_read_df.info()"
   ]
  },
  {
   "cell_type": "markdown",
   "metadata": {},
   "source": [
    "****\n",
    "## Preliminary Analysis"
   ]
  },
  {
   "cell_type": "code",
   "execution_count": 9,
   "metadata": {
    "collapsed": false
   },
   "outputs": [
    {
     "name": "stderr",
     "output_type": "stream",
     "text": [
      "C:\\Users\\gulay\\Anaconda3\\lib\\site-packages\\pandas\\core\\indexing.py:477: SettingWithCopyWarning: \n",
      "A value is trying to be set on a copy of a slice from a DataFrame.\n",
      "Try using .loc[row_indexer,col_indexer] = value instead\n",
      "\n",
      "See the caveats in the documentation: http://pandas.pydata.org/pandas-docs/stable/indexing.html#indexing-view-versus-copy\n",
      "  self.obj[item] = s\n"
     ]
    }
   ],
   "source": [
    "# deal with missing and inconvenient portions of data \n",
    "clean_hospital_read_df = hospital_read_df[hospital_read_df['Number of Discharges'] != 'Not Available']\n",
    "clean_hospital_read_df.loc[:, 'Number of Discharges'] = clean_hospital_read_df['Number of Discharges'].astype(int)\n",
    "clean_hospital_read_df = clean_hospital_read_df.sort_values('Number of Discharges')"
   ]
  },
  {
   "cell_type": "code",
   "execution_count": 12,
   "metadata": {
    "collapsed": false
   },
   "outputs": [
    {
     "data": {
      "image/png": "[encoded data removed]",
      "text/plain": [
       "<matplotlib.figure.Figure at 0x235c64b0470>"
      ]
     },
     "metadata": {},
     "output_type": "display_data"
    }
   ],
   "source": [
    "# generate a scatterplot for number of discharges vs. excess rate of readmissions\n",
    "# lists work better with matplotlib scatterplot function\n",
    "x = [a for a in clean_hospital_read_df['Number of Discharges'][81:-3]]\n",
    "y = list(clean_hospital_read_df['Excess Readmission Ratio'][81:-3])\n",
    "\n",
    "fig, ax = plt.subplots(figsize=(8,5))\n",
    "ax.scatter(x, y,alpha=0.2)\n",
    "\n",
    "ax.fill_between([0,350], 1.15, 2, facecolor='red', alpha = .15, interpolate=True)\n",
    "ax.fill_between([800,2500], .5, .95, facecolor='green', alpha = .15, interpolate=True)\n",
    "\n",
    "ax.set_xlim([0, max(x)])\n",
    "ax.set_xlabel('Number of discharges', fontsize=12)\n",
    "ax.set_ylabel('Excess rate of readmissions', fontsize=12)\n",
    "ax.set_title('Scatterplot of number of discharges vs. excess rate of readmissions', fontsize=14)\n",
    "\n",
    "ax.grid(True)\n",
    "fig.tight_layout()"
   ]
  },
  {
   "cell_type": "markdown",
   "metadata": {},
   "source": [
    "****\n",
    "\n",
    "## Preliminary Report\n",
    "\n",
    "Read the following results/report. While you are reading it, think about if the conclusions are correct, incorrect, misleading or unfounded. Think about what you would change or what additional analyses you would perform.\n",
    "\n",
    "**A. Initial observations based on the plot above**\n",
    "+ Overall, rate of readmissions is trending down with increasing number of discharges\n",
    "+ With lower number of discharges, there is a greater incidence of excess rate of readmissions (area shaded red)\n",
    "+ With higher number of discharges, there is a greater incidence of lower rates of readmissions (area shaded green) \n",
    "\n",
    "**B. Statistics**\n",
    "+ In hospitals/facilities with number of discharges < 100, mean excess readmission rate is 1.023 and 63% have excess readmission rate greater than 1 \n",
    "+ In hospitals/facilities with number of discharges > 1000, mean excess readmission rate is 0.978 and 44% have excess readmission rate greater than 1 \n",
    "\n",
    "**C. Conclusions**\n",
    "+ There is a significant correlation between hospital capacity (number of discharges) and readmission rates. \n",
    "+ Smaller hospitals/facilities may be lacking necessary resources to ensure quality care and prevent complications that lead to readmissions.\n",
    "\n",
    "**D. Regulatory policy recommendations**\n",
    "+ Hospitals/facilties with small capacity (< 300) should be required to demonstrate upgraded resource allocation for quality care to continue operation.\n",
    "+ Directives and incentives should be provided for consolidation of hospitals and facilities to have a smaller number of them with higher capacity and number of discharges."
   ]
  },
  {
   "cell_type": "markdown",
   "metadata": {
    "collapsed": true
   },
   "source": [
    "****\n",
    "<div> class=\"span5 alert alert-info\">\n",
    "### Exercise\n",
    "\n",
    "Include your work on the following **in this notebook and submit to your Github account**. \n",
    "\n",
    "A. Do you agree with the above analysis and recommendations? Why or why not?\n",
    "   \n",
    "B. Provide support for your arguments and your own recommendations with a statistically sound analysis:\n",
    "\n",
    "   1. Setup an appropriate hypothesis test.\n",
    "   2. Compute and report the observed significance value (or p-value).\n",
    "   3. Report statistical significance for $\\alpha$ = .01. \n",
    "   4. Discuss statistical significance and practical significance. Do they differ here? How does this change your recommendation to the client?\n",
    "   5. Look at the scatterplot above. \n",
    "      - What are the advantages and disadvantages of using this plot to convey information?\n",
    "      - Construct another plot that conveys the same information in a more direct manner.\n",
    "\n",
    "\n",
    "\n",
    "You can compose in notebook cells using Markdown: \n",
    "+ In the control panel at the top, choose Cell > Cell Type > Markdown\n",
    "+ Markdown syntax: http://nestacms.com/docs/creating-content/markdown-cheat-sheet\n",
    "</div>\n",
    "****"
   ]
  },
  {
   "cell_type": "code",
   "execution_count": null,
   "metadata": {
    "collapsed": true
   },
   "outputs": [],
   "source": [
    "# Your turn"
   ]
  },
  {
   "cell_type": "markdown",
   "metadata": {
    "collapsed": true
   },
   "source": [
    " A. Do you agree with the above analysis and recommendations? Why or why not?\n",
    "The initial observation sounds correct based on the plot. Most of the data points condense between 0.8 and 1.2 excess readmission rate and less than 1000 number of discharges. Statistics provided above also yields similar results. The correlation between he excess readmission rate and the number of discharge is -0.93% which is really small to say these two variables are correlated. There are other issues needed to discuss before making any conclusions. This result (different between statistics) might not be statistically significant. Right now, there is not much know how the data is collected. Does the data consist of all hospitals or is it just a sample? If it is a sample, is each data point selected randomly or not? The result might be biased migth be due to the fact that smaller hospitals/facilities who have lacking necessary resources were selected. The other issue with conclusion is that there is no information about hospital capacity, the number of discharge might not be a good represantative of the hospital capacity to make the above policy recomendation. \n",
    "\n",
    "Below, I will use inferential statistical techniques to make a conclusion about excess readmission rate vs number of discharges. "
   ]
  },
  {
   "cell_type": "code",
   "execution_count": 23,
   "metadata": {
    "collapsed": false
   },
   "outputs": [
    {
     "name": "stdout",
     "output_type": "stream",
     "text": [
      "The correlation matrix for the excess readmission rate and the number of discharge is\n",
      "[[ 1.         -0.09309554]\n",
      " [-0.09309554  1.        ]]\n"
     ]
    }
   ],
   "source": [
    "print ('The correlation matrix for the excess readmission rate and the number of discharge is')\n",
    "print (str(np.corrcoef(x,y)))"
   ]
  },
  {
   "cell_type": "markdown",
   "metadata": {},
   "source": [
    "First, I do a standard hypothesis test to test for the population correlation coefficient, ρ with the following null and alternative hypotheses:\n",
    "\n",
    "Null hypothesis: ρ = 0\n",
    "Alternative hypothesis: ρ ≠ 0 \n",
    "\n",
    "Test statistic:  t =r*sqrt((n−2) /(1-r^2))\n",
    "df = n-2 \n",
    "\n",
    "\n"
   ]
  },
  {
   "cell_type": "code",
   "execution_count": null,
   "metadata": {
    "collapsed": false
   },
   "outputs": [],
   "source": []
  },
  {
   "cell_type": "code",
   "execution_count": 63,
   "metadata": {
    "collapsed": false,
    "scrolled": true
   },
   "outputs": [
    {
     "name": "stdout",
     "output_type": "stream",
     "text": [
      "The test statistics: -10.0234416743\n",
      "The critical value for the 0.01 significance level:2.32667241041\n",
      "The p-value for the test statistics: 0.0\n",
      "The null hypothesis that the population correlation coefficient is equal to zero is rejected at a 0.01 level of significance.\n"
     ]
    }
   ],
   "source": [
    "rho = -0.093095542875904394\n",
    "n = len(x)\n",
    "\n",
    "t_test =rho*np.sqrt((n-2)/(1-rho*rho))\n",
    "print( 'The test statistics: '+str(t_test))\n",
    "\n",
    "from scipy import stats\n",
    "print ('The critical value for the 0.01 significance level:'+ str(stats.t.ppf(1-(0.01), n-2)))\n",
    "\n",
    "p_value = (1 - stats.t.cdf(np.absolute(t_test), n-2))*2\n",
    "print ('The p-value for the test statistics: '+str(p_value))\n",
    "\n",
    "if p_value <= 0.01:\n",
    "    print ('The null hypothesis that the population correlation coefficient is equal to zero is rejected at a 0.01 level of significance.')\n",
    "else:\n",
    "    print ('The null hypothesis that the population correlation coefficient is equal to zero is not rejected at a 0.01 level of significance.')"
   ]
  },
  {
   "cell_type": "code",
   "execution_count": 57,
   "metadata": {
    "collapsed": false
   },
   "outputs": [
    {
     "data": {
      "text/plain": [
       "(-0.093095542875904394, 1.5022756426464526e-23)"
      ]
     },
     "execution_count": 57,
     "metadata": {},
     "output_type": "execute_result"
    }
   ],
   "source": [
    "#pearsonr function yields the sample correlation coefficient for the underlying two variables and the p-value for the above test.\n",
    "from scipy.stats.stats import pearsonr\n",
    "pearsonr(x, y)"
   ]
  },
  {
   "cell_type": "markdown",
   "metadata": {},
   "source": [
    "The above correlation coefficient hypothesis test shows that at 0.01 level of significance the correlation between the excess readmission rate and the number of hospital discharge is different from zero which means the two measures are related to each other.  "
   ]
  },
  {
   "cell_type": "markdown",
   "metadata": {},
   "source": [
    "The next hypothesis test I want to conduct is to test the mean difference excess readmission rate for the following two groups are equal or not.\n",
    "1. In hospitals/facilities with number of discharges < 100\n",
    "2. In hospitals/facilities with number of discharges > 1000\n",
    "\n",
    "I will use the t-test for two-samples with the pooled variance ( assume the population variances are equal). "
   ]
  },
  {
   "cell_type": "code",
   "execution_count": 61,
   "metadata": {
    "collapsed": false
   },
   "outputs": [],
   "source": [
    "df = clean_hospital_read_df[['Number of Discharges','Excess Readmission Ratio']].dropna()"
   ]
  },
  {
   "cell_type": "code",
   "execution_count": 62,
   "metadata": {
    "collapsed": false
   },
   "outputs": [
    {
     "data": {
      "text/html": [
       "<div>\n",
       "<table border=\"1\" class=\"dataframe\">\n",
       "  <thead>\n",
       "    <tr style=\"text-align: right;\">\n",
       "      <th></th>\n",
       "      <th>Number of Discharges</th>\n",
       "      <th>Excess Readmission Ratio</th>\n",
       "    </tr>\n",
       "  </thead>\n",
       "  <tbody>\n",
       "    <tr>\n",
       "      <th>1832</th>\n",
       "      <td>25</td>\n",
       "      <td>1.0914</td>\n",
       "    </tr>\n",
       "    <tr>\n",
       "      <th>1699</th>\n",
       "      <td>27</td>\n",
       "      <td>1.0961</td>\n",
       "    </tr>\n",
       "    <tr>\n",
       "      <th>1774</th>\n",
       "      <td>28</td>\n",
       "      <td>1.0934</td>\n",
       "    </tr>\n",
       "    <tr>\n",
       "      <th>1853</th>\n",
       "      <td>29</td>\n",
       "      <td>1.0908</td>\n",
       "    </tr>\n",
       "    <tr>\n",
       "      <th>1290</th>\n",
       "      <td>30</td>\n",
       "      <td>1.1123</td>\n",
       "    </tr>\n",
       "  </tbody>\n",
       "</table>\n",
       "</div>"
      ],
      "text/plain": [
       "      Number of Discharges  Excess Readmission Ratio\n",
       "1832                    25                    1.0914\n",
       "1699                    27                    1.0961\n",
       "1774                    28                    1.0934\n",
       "1853                    29                    1.0908\n",
       "1290                    30                    1.1123"
      ]
     },
     "execution_count": 62,
     "metadata": {},
     "output_type": "execute_result"
    }
   ],
   "source": [
    "df.head()"
   ]
  },
  {
   "cell_type": "code",
   "execution_count": 65,
   "metadata": {
    "collapsed": false
   },
   "outputs": [
    {
     "data": {
      "text/plain": [
       "1188"
      ]
     },
     "execution_count": 65,
     "metadata": {},
     "output_type": "execute_result"
    }
   ],
   "source": [
    "small_disch = df[df['Number of Discharges']< 100]\n",
    "len(small_disch)"
   ]
  },
  {
   "cell_type": "code",
   "execution_count": 66,
   "metadata": {
    "collapsed": false
   },
   "outputs": [
    {
     "data": {
      "text/plain": [
       "463"
      ]
     },
     "execution_count": 66,
     "metadata": {},
     "output_type": "execute_result"
    }
   ],
   "source": [
    "large_disch = df[df['Number of Discharges']>1000]\n",
    "len(large_disch)"
   ]
  },
  {
   "cell_type": "code",
   "execution_count": 67,
   "metadata": {
    "collapsed": false
   },
   "outputs": [
    {
     "name": "stdout",
     "output_type": "stream",
     "text": [
      "The test statistics and p-value for the hypothesis test: the mean difference excess readmission rate between the small and large number of discharge hospitals are equal \n",
      "t-test = 10.0606203985 and p-value = 8.24769443323e-24\n",
      "The null hypothesis that the difference in mean excess readmission rate is equal is rejected at a 0.01 level of significance.\n"
     ]
    }
   ],
   "source": [
    "import statsmodels.stats.weightstats as ws\n",
    "\n",
    "#Null hypothesis: the mean difference between excess readmission ratio in hospitals with small number of discharge and \n",
    "#with large number of discharge is equal to zero\n",
    "#Alternative hypothesis: the difference is not equal to zero\n",
    "    \n",
    "    \n",
    "    \n",
    "(t_test, p_value) = ws.ztest(small_disch['Excess Readmission Ratio'], large_disch['Excess Readmission Ratio'] , value = 0, alternative='two-sided', usevar='pooled')\n",
    "\n",
    "print ('The test statistics and p-value for the hypothesis test: the mean difference excess readmission rate between the small and large number of discharge hospitals are equal ')\n",
    "print(\"t-test = \" + str(t_test) + \" and p-value = \"+ str(p_value))\n",
    "\n",
    "if p_value <= 0.01:\n",
    "    print ('The null hypothesis that the difference in mean excess readmission rate is equal is rejected at a 0.01 level of significance.')\n",
    "else:\n",
    "    print ('The null hypothesis that the difference in mean excess readmission rate is equal is not rejected at a 0.01 level of significance.')"
   ]
  },
  {
   "cell_type": "markdown",
   "metadata": {},
   "source": [
    "This test and the correlation coefficient test yield the similar result which is the excess readmission rates for the two groups are different at the 0.01 significance level. "
   ]
  },
  {
   "cell_type": "markdown",
   "metadata": {},
   "source": [
    "After seeing that the mean difference between two groups is not equal to zero, I want to test if the difference is greater than zero, i.e if the exccess readmission rate in group one (small discharge hospitals ) is larger than that in group two (large discharge hospitals)"
   ]
  },
  {
   "cell_type": "code",
   "execution_count": 72,
   "metadata": {
    "collapsed": false
   },
   "outputs": [
    {
     "name": "stdout",
     "output_type": "stream",
     "text": [
      "The test statistics and p-value for the hypothesis test: the mean difference excess readmission rate between the small and large number of discharge hospitals are larger than or equal to zero\n",
      "t-test = 10.0606203985 and p-value = 4.12384721662e-24\n",
      "The null hypothesis that the difference in mean excess readmission rate is smaller than and equal to zero is rejected at a 0.01 level of significance.\n"
     ]
    }
   ],
   "source": [
    "\n",
    "#Null hypothesis: the mean difference between excess readmission ratio in hospitals with small number of discharge and \n",
    "#with large number of discharge is smaller than and equal to zero\n",
    "#Alternative hypothesis: the difference is larger than zero\n",
    "(t_test, p_value) = ws.ztest(small_disch['Excess Readmission Ratio'], large_disch['Excess Readmission Ratio'] , value = 0, alternative='larger', usevar='pooled')\n",
    "\n",
    "print ('The test statistics and p-value for the hypothesis test: the mean difference excess readmission rate between the small and large number of discharge hospitals are larger than or equal to zero')\n",
    "print(\"t-test = \" + str(t_test) + \" and p-value = \"+ str(p_value))\n",
    "\n",
    "if p_value <= 0.01:\n",
    "    print ('The null hypothesis that the difference in mean excess readmission rate is smaller than and equal to zero is rejected at a 0.01 level of significance.')\n",
    "else:\n",
    "    print ('The null hypothesis that the difference in mean excess readmission rate  is smaller than and equal to zero  is not rejected at a 0.01 level of significance.')"
   ]
  },
  {
   "cell_type": "markdown",
   "metadata": {},
   "source": [
    "The null hypothesis -the mean difference between excess readmission ratio in hospitals with small number of discharge and \n",
    "with large number of discharge is smaller than and equal to zero is rejected. That means the group one has a larger excess readmission rate than the group two. "
   ]
  },
  {
   "cell_type": "markdown",
   "metadata": {},
   "source": [
    "Here I conduct different statistical tests which all yield the following results:\n",
    "- There is a negative correlation between the excess readdmission rate and the number of discharge although the sample correlation is too small.  \n",
    "- The excess readdmission rate is larger when the number of discharge < 100 than that > 1000. \n",
    "\n",
    "These results support the preliminary results except the one with hospital capacity. There is no information about hospital capacity. I believe the number of discharge can not be used to refer the hospital capacity.  \n",
    "Using a visual plot is "
   ]
  },
  {
   "cell_type": "code",
   "execution_count": 73,
   "metadata": {
    "collapsed": true
   },
   "outputs": [],
   "source": [
    "import plotly.plotly as py\n",
    "from plotly.graph_objs import *"
   ]
  },
  {
   "cell_type": "code",
   "execution_count": 78,
   "metadata": {
    "collapsed": false
   },
   "outputs": [
    {
     "data": {
      "text/html": [
       "<iframe id=\"igraph\" scrolling=\"no\" style=\"border:none;\" seamless=\"seamless\" src=\"https://plot.ly/~gulaysamatli/55.embed\" height=\"525px\" width=\"100%\"></iframe>"
      ],
      "text/plain": [
       "<plotly.tools.PlotlyDisplay object>"
      ]
     },
     "execution_count": 78,
     "metadata": {},
     "output_type": "execute_result"
    }
   ],
   "source": [
    "trace = {\"x\":[a for a in clean_hospital_read_df['Number of Discharges'][81:-3]],\n",
    "         \"y\":list(clean_hospital_read_df['Excess Readmission Ratio'][81:-3])}\n",
    "data = Data([trace])\n",
    "layout = {\"title\": \"Excess Readmission Ratio\", \n",
    "          \"xaxis\": {\"title\": \"Number of Discharges\", }, \n",
    "          \"yaxis\": {\"title\": \"Excess Readmission Ratio\"}}\n",
    "\n",
    "fig = Figure(data=data, layout=layout)\n",
    "py.iplot(fig, filenmae='basic_dot-plot')"
   ]
  }
 ],
 "metadata": {
  "anaconda-cloud": {},
  "kernelspec": {
   "display_name": "Python 3",
   "language": "python",
   "name": "python3"
  },
  "language_info": {
   "codemirror_mode": {
    "name": "ipython",
    "version": 3
   },
   "file_extension": ".py",
   "mimetype": "text/x-python",
   "name": "python",
   "nbconvert_exporter": "python",
   "pygments_lexer": "ipython3",
   "version": "3.6.0"
  }
 },
 "nbformat": 4,
 "nbformat_minor": 0
}
